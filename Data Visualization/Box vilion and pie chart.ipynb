{
 "cells": [
  {
   "cell_type": "code",
   "execution_count": 4,
   "metadata": {},
   "outputs": [],
   "source": [
    "from matplotlib import pyplot as plt"
   ]
  },
  {
   "cell_type": "code",
   "execution_count": 1,
   "metadata": {},
   "outputs": [],
   "source": [
    "one =[4,8,7,12,15,2,7]"
   ]
  },
  {
   "cell_type": "code",
   "execution_count": 12,
   "metadata": {},
   "outputs": [],
   "source": [
    "two = [5,9,3,7,12]"
   ]
  },
  {
   "cell_type": "code",
   "execution_count": 14,
   "metadata": {},
   "outputs": [],
   "source": [
    "three = [9,2,6,7,9,12]"
   ]
  },
  {
   "cell_type": "code",
   "execution_count": 15,
   "metadata": {},
   "outputs": [],
   "source": [
    "data=list([one,two,three])"
   ]
  },
  {
   "cell_type": "code",
   "execution_count": 17,
   "metadata": {},
   "outputs": [
    {
     "data": {
      "text/plain": [
       "{'whiskers': [<matplotlib.lines.Line2D at 0x837a520>,\n",
       "  <matplotlib.lines.Line2D at 0x837a280>,\n",
       "  <matplotlib.lines.Line2D at 0x83b1310>,\n",
       "  <matplotlib.lines.Line2D at 0x83b1670>,\n",
       "  <matplotlib.lines.Line2D at 0x83bbaf0>,\n",
       "  <matplotlib.lines.Line2D at 0x83bbe50>],\n",
       " 'caps': [<matplotlib.lines.Line2D at 0x4db31f0>,\n",
       "  <matplotlib.lines.Line2D at 0x8383550>,\n",
       "  <matplotlib.lines.Line2D at 0x83b19d0>,\n",
       "  <matplotlib.lines.Line2D at 0x83b1d30>,\n",
       "  <matplotlib.lines.Line2D at 0x83c71f0>,\n",
       "  <matplotlib.lines.Line2D at 0x83c7550>],\n",
       " 'boxes': [<matplotlib.lines.Line2D at 0x8334040>,\n",
       "  <matplotlib.lines.Line2D at 0x8383f70>,\n",
       "  <matplotlib.lines.Line2D at 0x83bb790>],\n",
       " 'medians': [<matplotlib.lines.Line2D at 0x83838b0>,\n",
       "  <matplotlib.lines.Line2D at 0x83bb0d0>,\n",
       "  <matplotlib.lines.Line2D at 0x83c78b0>],\n",
       " 'fliers': [<matplotlib.lines.Line2D at 0x8383bb0>,\n",
       "  <matplotlib.lines.Line2D at 0x83bb3d0>,\n",
       "  <matplotlib.lines.Line2D at 0x83c7bb0>],\n",
       " 'means': []}"
      ]
     },
     "execution_count": 17,
     "metadata": {},
     "output_type": "execute_result"
    },
    {
     "data": {
      "image/png": "[encoded data removed]",
      "text/plain": [
       "<Figure size 432x288 with 1 Axes>"
      ]
     },
     "metadata": {
      "needs_background": "light"
     },
     "output_type": "display_data"
    }
   ],
   "source": [
    "plt.boxplot(data)"
   ]
  },
  {
   "cell_type": "code",
   "execution_count": 19,
   "metadata": {},
   "outputs": [
    {
     "data": {
      "text/plain": [
       "{'whiskers': [<matplotlib.lines.Line2D at 0x84b31f0>,\n",
       "  <matplotlib.lines.Line2D at 0x84b3550>,\n",
       "  <matplotlib.lines.Line2D at 0x84bc9d0>,\n",
       "  <matplotlib.lines.Line2D at 0x84bcd60>,\n",
       "  <matplotlib.lines.Line2D at 0x84d4220>,\n",
       "  <matplotlib.lines.Line2D at 0x84d4580>],\n",
       " 'caps': [<matplotlib.lines.Line2D at 0x84b38b0>,\n",
       "  <matplotlib.lines.Line2D at 0x84b3c10>,\n",
       "  <matplotlib.lines.Line2D at 0x84c9100>,\n",
       "  <matplotlib.lines.Line2D at 0x84c9460>,\n",
       "  <matplotlib.lines.Line2D at 0x84d48e0>,\n",
       "  <matplotlib.lines.Line2D at 0x84d4c40>],\n",
       " 'boxes': [<matplotlib.lines.Line2D at 0x84a4e50>,\n",
       "  <matplotlib.lines.Line2D at 0x84bc670>,\n",
       "  <matplotlib.lines.Line2D at 0x84c9e80>],\n",
       " 'medians': [<matplotlib.lines.Line2D at 0x84b3f70>,\n",
       "  <matplotlib.lines.Line2D at 0x84c97c0>,\n",
       "  <matplotlib.lines.Line2D at 0x84d4fa0>],\n",
       " 'fliers': [<matplotlib.lines.Line2D at 0x84bc2b0>,\n",
       "  <matplotlib.lines.Line2D at 0x84c9ac0>,\n",
       "  <matplotlib.lines.Line2D at 0x84df2e0>],\n",
       " 'means': []}"
      ]
     },
     "execution_count": 19,
     "metadata": {},
     "output_type": "execute_result"
    },
    {
     "data": {
      "image/png": "[encoded data removed]",
      "text/plain": [
       "<Figure size 432x288 with 1 Axes>"
      ]
     },
     "metadata": {
      "needs_background": "light"
     },
     "output_type": "display_data"
    }
   ],
   "source": [
    "plt.boxplot(data)"
   ]
  },
  {
   "cell_type": "code",
   "execution_count": 24,
   "metadata": {},
   "outputs": [
    {
     "data": {
      "image/png": "[encoded data removed]",
      "text/plain": [
       "<Figure size 432x288 with 1 Axes>"
      ]
     },
     "metadata": {
      "needs_background": "light"
     },
     "output_type": "display_data"
    }
   ],
   "source": [
    "plt.violinplot(data,showmedians=True)\n",
    "plt.show()"
   ]
  },
  {
   "cell_type": "code",
   "execution_count": 25,
   "metadata": {},
   "outputs": [],
   "source": [
    "fruit =['apple','orange','mango','guava']"
   ]
  },
  {
   "cell_type": "code",
   "execution_count": 27,
   "metadata": {},
   "outputs": [],
   "source": [
    "quantity=[67,64,100,29]"
   ]
  },
  {
   "cell_type": "code",
   "execution_count": 28,
   "metadata": {},
   "outputs": [
    {
     "data": {
      "text/plain": [
       "([<matplotlib.patches.Wedge at 0x865ba00>,\n",
       "  <matplotlib.patches.Wedge at 0x865beb0>,\n",
       "  <matplotlib.patches.Wedge at 0x8669370>,\n",
       "  <matplotlib.patches.Wedge at 0x86697f0>],\n",
       " [Text(0.7587953657791612, 0.796385329392794, 'apple'),\n",
       "  Text(-0.8054955316389948, 0.7491174464058445, 'orange'),\n",
       "  Text(-0.3650986175165185, -1.03764300194601, 'mango'),\n",
       "  Text(1.0331558669871574, -0.3776095265085554, 'guava')])"
      ]
     },
     "execution_count": 28,
     "metadata": {},
     "output_type": "execute_result"
    },
    {
     "data": {
      "image/png": "[encoded data removed]",
      "text/plain": [
       "<Figure size 432x288 with 1 Axes>"
      ]
     },
     "metadata": {},
     "output_type": "display_data"
    }
   ],
   "source": [
    "plt.pie(quantity,labels=fruit)"
   ]
  },
  {
   "cell_type": "code",
   "execution_count": null,
   "metadata": {},
   "outputs": [],
   "source": []
  }
 ],
 "metadata": {
  "kernelspec": {
   "display_name": "Python 3 (ipykernel)",
   "language": "python",
   "name": "python3"
  },
  "language_info": {
   "codemirror_mode": {
    "name": "ipython",
    "version": 3
   },
   "file_extension": ".py",
   "mimetype": "text/x-python",
   "name": "python",
   "nbconvert_exporter": "python",
   "pygments_lexer": "ipython3",
   "version": "3.8.3"
  }
 },
 "nbformat": 4,
 "nbformat_minor": 4
}
