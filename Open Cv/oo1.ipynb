{
 "cells": [
  {
   "cell_type": "code",
   "execution_count": 1,
   "metadata": {},
   "outputs": [],
   "source": [
    "# How to capture a webcame inside python \n",
    "# Import libraries \n",
    "import cv2 as cv \n",
    "# import time \n",
    "import numpy as np\n",
    "#step2 capture webcame \n",
    "cap=cv.VideoCapture(700)  # number is use for switching webcame \n",
    "# if (cap.isOpened()==False):\n",
    "#     print (\"There is an error\")\n",
    "# Read cap untill end \n",
    "while (cap.isOpened()):\n",
    "    #capture fram by frame\n",
    "    # Step 3 display frame by frame \n",
    "    ret,frame=cap.read()\n",
    "    if ret==True:\n",
    "        cv.imshow(\"Frame:\",frame)\n",
    "        if cv.waitKey(1) & 0xFF == ord('q'):\n",
    "            break\n",
    "    else:\n",
    "        break\n",
    "    # step4 Release webcam easly\n",
    "    cap.release()\n",
    "    cv.destroyAllWindows()  \n"
   ]
  },
  {
   "cell_type": "code",
   "execution_count": null,
   "metadata": {},
   "outputs": [],
   "source": []
  }
 ],
 "metadata": {
  "interpreter": {
   "hash": "0a02ee646c8ad2dd595e5341b6f477eb50ac789689ed638f7c72990585c4481e"
  },
  "kernelspec": {
   "display_name": "Python 3.8.9 64-bit",
   "language": "python",
   "name": "python3"
  },
  "language_info": {
   "codemirror_mode": {
    "name": "ipython",
    "version": 3
   },
   "file_extension": ".py",
   "mimetype": "text/x-python",
   "name": "python",
   "nbconvert_exporter": "python",
   "pygments_lexer": "ipython3",
   "version": "3.8.9"
  },
  "orig_nbformat": 4
 },
 "nbformat": 4,
 "nbformat_minor": 2
}
